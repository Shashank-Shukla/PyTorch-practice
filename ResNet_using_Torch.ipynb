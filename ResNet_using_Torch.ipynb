{
  "nbformat": 4,
  "nbformat_minor": 0,
  "metadata": {
    "colab": {
      "name": "ResNet_using_Torch.ipynb",
      "provenance": [],
      "authorship_tag": "ABX9TyPIV11iUgufgpuVrpsCcyqg",
      "include_colab_link": true
    },
    "kernelspec": {
      "name": "python3",
      "display_name": "Python 3"
    },
    "accelerator": "GPU"
  },
  "cells": [
    {
      "cell_type": "markdown",
      "metadata": {
        "id": "view-in-github",
        "colab_type": "text"
      },
      "source": [
        "<a href=\"https://colab.research.google.com/github/Shashank-Shukla/PyTorch-practice/blob/master/ResNet_using_Torch.ipynb\" target=\"_parent\"><img src=\"https://colab.research.google.com/assets/colab-badge.svg\" alt=\"Open In Colab\"/></a>"
      ]
    },
    {
      "cell_type": "code",
      "metadata": {
        "id": "RbTizdABp_uY",
        "colab_type": "code",
        "colab": {}
      },
      "source": [
        "import torch\n",
        "from torch import nn"
      ],
      "execution_count": null,
      "outputs": []
    },
    {
      "cell_type": "code",
      "metadata": {
        "id": "BnVNHSJEqZzQ",
        "colab_type": "code",
        "colab": {}
      },
      "source": [
        "'''\n",
        "First create ResNet blocks\n",
        "Then later we'll build the ResNet architecture\n",
        "'''\n",
        "\n",
        "class block(nn.Module):\n",
        "  # params = input_channel_size, output_channel_dims, \n",
        "  # initialization function to predefine var and processes\n",
        "  def __init__(self, in_channels, out_channels, identity_downsample=None ,stride=1):\n",
        "    super(block, self).__init__()\n",
        "    # channel expands after it is processed by each block [as in research paper]\n",
        "    self.expansion = 4    # channel expands 4x [from 64 to 256]\n",
        "    # Now for ResNet50 conv2_x, this layer is a {1x1,64} layer\n",
        "    self.conv1 = nn.Conv2d(in_channels, out_channels, kernel_size=1, stride=1, padding=0)\n",
        "    '''\n",
        "    stride controls the stride for the cross-correlation,\n",
        "    padding controls the amount of implicit zero-paddings on both sides,\n",
        "    param(kernel_size,stride,padding) = either 'int' [if Height == Width] \n",
        "    or tuple(int,int) [first int is Height and 2nd is Width]\n",
        "    '''\n",
        "    # Now between the next Conv layer and this Conv layer we'll have a batch norm\n",
        "    self.bn1 = nn.BatchNorm2d(out_channels)\n",
        "    # After the first layer, next will have a dim of: {3x3,64}\n",
        "    self.conv2 = nn.Conv2d(out_channels, out_channels, kernel_size=3, stride=stride, padding=1)\n",
        "    self.bn2 = nn.BatchNorm2d(out_channels)\n",
        "    # The third layer will have a dim. of: {1x1,256}\n",
        "    self.conv3 = nn.Conv2d(out_channels, out_channels*self.expansion, kernel_size=1, stride=1, padding=0)\n",
        "    self.bn3 = nn.BatchNorm2d(out_channels*self.expansion)\n",
        "    self.relu = nn.ReLU()\n",
        "    self.identity_downsample = identity_downsample\n",
        "    # Identity mapping to the conv layer so it's the same shape after processing\n",
        "    self.stride = stride\n",
        "\n",
        "  def forward(self, x):\n",
        "    identity = x.clone()\n",
        "\n",
        "    # Start computation:\n",
        "    # Conv -> bn -> ReLU -> Conv -> bn -> Relu -> Conv -> bn\n",
        "    x = self.conv1(x)\n",
        "    x = self.bn1(x)\n",
        "    x = self.relu(x)\n",
        "    x = self.conv2(x)\n",
        "    x = self.bn2(x)\n",
        "    x = self.relu(x)\n",
        "    x = self.conv3(x)\n",
        "    x = self.bn3(x)\n",
        "\n",
        "    # Now we use the identity block or skip-connection\n",
        "    # We use this block to change the shape\n",
        "    if self.identity_downsample is not None:\n",
        "      identity = self.identity_downsample(identity)\n",
        "    \n",
        "    # Now we'll add this skip-connection to the output of Conv layers stack\n",
        "    x += identity\n",
        "    # Now we use the ReLU activation over this whole stack\n",
        "    x = self.relu(x)\n",
        "    \n",
        "    return x\n"
      ],
      "execution_count": null,
      "outputs": []
    },
    {
      "cell_type": "code",
      "metadata": {
        "id": "5UVXcfGB0ZY6",
        "colab_type": "code",
        "colab": {}
      },
      "source": [
        "class ResNet(nn.Module):\n",
        "  def __init__(self, block, layers, img_channels, no_classes):\n",
        "    '''\n",
        "    Inheriting the Block class\n",
        "    layers is a tuple that defines how many instances of the block we need to create\n",
        "                [3, 4, 6, 3]   ..... stride of each: [1, 2, 2, 2]\n",
        "    img_channels is no. of image channels [for RGB image: 3]\n",
        "    no_classes is the number of classes we have in dataset [cat, dog, car...etc]\n",
        "    '''\n",
        "    super(ResNet, self).__init__()\n",
        "    \n",
        "    # Now let's initialize the modules\n",
        "    self.in_channels = 64\n",
        "    self.conv1 = nn.Conv2d(img_channels, out_channels=64, kernel_size=7, stride=2, padding=3)\n",
        "    self.bn1 = nn.BatchNorm2d(64)\n",
        "    self.relu = nn.ReLU()\n",
        "    self.maxpool = nn.MaxPool2d(kernel_size=3, stride=2, padding=1)\n",
        "\n",
        "    # Define ResNet layers\n",
        "    self.layer1 = self.create_layer(block, layers[0], out_channels=64, stride=1)\n",
        "    self.layer2 = self.create_layer(block, layers[1], out_channels=128, stride=2)\n",
        "    self.layer3 = self.create_layer(block, layers[2], out_channels=256, stride=2)\n",
        "    self.layer4 = self.create_layer(block, layers[3], out_channels=512, stride=2)\n",
        "\n",
        "    self.avgpool = nn.AdaptiveAvgPool2d((1,1))\n",
        "    self.fc = nn.Linear(2048, no_classes)   # o/p: 512*4 = 2048\n",
        "\n",
        "  def forward(self, x):\n",
        "    x = self.conv1(x)\n",
        "    x = self.bn1(x)\n",
        "    x = self.relu(x)\n",
        "    x = self.maxpool(x)\n",
        "\n",
        "    x = self.layer1(x)\n",
        "    x = self.layer2(x)\n",
        "    x = self.layer3(x)\n",
        "    x = self.layer4(x)\n",
        "\n",
        "    x = self.avgpool(x)\n",
        "    x = x.reshape(x.shape[0], -1)\n",
        "    x = self.fc(x)\n",
        "    return x\n",
        "\n",
        "  def create_layer(self, block, no_res_blocks, out_channels, stride):\n",
        "    identity_downsample = None\n",
        "    layers = []\n",
        "    '''\n",
        "    We need to add the identity whenever we change conv2_x layer stack and we \n",
        "    determine that if stride changes to 1 or if input channel dimension is not\n",
        "    same as output channel dimension*4\n",
        "    '''\n",
        "    if stride != 1 or self.in_channels != out_channels*4:\n",
        "      identity_downsample = nn.Sequential(nn.Conv2d(self.in_channels, out_channels*4, kernel_size=1, stride=stride),\n",
        "                                          nn.BatchNorm2d(out_channels*4))\n",
        "    layers.append(block(self.in_channels, out_channels, identity_downsample, stride))\n",
        "    # new input = prev-output*expansion\n",
        "    self.in_channels = out_channels*4   # new-input = 256\n",
        "\n",
        "    # Now it's time to loop through and recall blocks for computation\n",
        "    for i in range(no_res_blocks-1):\n",
        "      # -1 coz we already computed a block on line:28 above\n",
        "      layers.append(block(self.in_channels, out_channels))\n",
        "      '''\n",
        "      So input will be 256 channels, which will be mapped to output 64 channels \n",
        "      and then reproduce an output of 64*4=256 again in the end\n",
        "      '''\n",
        "\n",
        "    return nn.Sequential(*layers)\n"
      ],
      "execution_count": null,
      "outputs": []
    },
    {
      "cell_type": "code",
      "metadata": {
        "id": "Gfo9rU4mCbTy",
        "colab_type": "code",
        "colab": {}
      },
      "source": [
        "# Implementing ResNet50\n",
        "def ResNet50(img_channels=3, no_classes=1000):\n",
        "  return ResNet(block, [3, 4, 6, 3], img_channels, no_classes)"
      ],
      "execution_count": null,
      "outputs": []
    },
    {
      "cell_type": "code",
      "metadata": {
        "id": "E0nhqttLDIQD",
        "colab_type": "code",
        "colab": {}
      },
      "source": [
        "# Implementing ResNet101\n",
        "def ResNet101(img_channels=3, no_classes=1000):\n",
        "  return ResNet(block, [3, 4, 23, 3], img_channels, no_classes)"
      ],
      "execution_count": null,
      "outputs": []
    },
    {
      "cell_type": "code",
      "metadata": {
        "id": "Cs3g7kmHDP-8",
        "colab_type": "code",
        "colab": {}
      },
      "source": [
        "# Implementing ResNet152\n",
        "def ResNet152(img_channels=3, no_classes=1000):\n",
        "  return ResNet(block, [3, 8, 36, 3], img_channels, no_classes)"
      ],
      "execution_count": null,
      "outputs": []
    },
    {
      "cell_type": "code",
      "metadata": {
        "id": "MoNUgnilDUxy",
        "colab_type": "code",
        "colab": {}
      },
      "source": [
        "# Testing these models:\n",
        "from time import time as t\n",
        "def test():\n",
        "  net = ResNet50()\n",
        "  x = torch.randn(16, 3, 224, 224)\n",
        "  print(x.shape)\n",
        "  print(x)\n",
        "  t1s = t()\n",
        "  y = net(x).to('cuda')\n",
        "  t2s = t()\n",
        "  tdiff1 = t2s-t1s\n",
        "  t1s = t()\n",
        "  y = net(x).to('cuda')\n",
        "  t2s = t()\n",
        "  tdiff2 = t2s-t1s\n",
        "  t1s = t()\n",
        "  y = net(x).to('cuda')\n",
        "  t2s = t()\n",
        "  tdiff3 = t2s-t1s\n",
        "  #y = net(x)\n",
        "  print(y.shape)\n",
        "  print(\"ResNet50: \",tdiff1,\"s\")\n",
        "  print(\"ResNet101: \",tdiff2,\"s\")\n",
        "  print(\"ResNet152: \",tdiff3,\"s\")"
      ],
      "execution_count": null,
      "outputs": []
    },
    {
      "cell_type": "code",
      "metadata": {
        "id": "QHzFLkIKEO0I",
        "colab_type": "code",
        "colab": {}
      },
      "source": [
        "test()"
      ],
      "execution_count": null,
      "outputs": []
    },
    {
      "cell_type": "code",
      "metadata": {
        "id": "zvGqQ2aDEfzJ",
        "colab_type": "code",
        "colab": {
          "base_uri": "https://localhost:8080/",
          "height": 153
        },
        "outputId": "89a4a82c-50d5-4a60-8ea7-778a28805ea3"
      },
      "source": [
        "'''\n",
        "print(torch.cuda.current_device())\n",
        "print(torch.cuda.device(0))\n",
        "print(torch.cuda.device_count())\n",
        "print(torch.cuda.get_device_name(0))\n",
        "print(torch.cuda.is_available())\n",
        "print(torch.cuda.current_device())\n",
        "'''"
      ],
      "execution_count": null,
      "outputs": [
        {
          "output_type": "stream",
          "text": [
            "0\n",
            "<torch.cuda.device object at 0x7f7b887a1da0>\n",
            "1\n",
            "Tesla T4\n",
            "True\n",
            "0\n",
            "0\n",
            "Tesla T4\n"
          ],
          "name": "stdout"
        }
      ]
    },
    {
      "cell_type": "code",
      "metadata": {
        "id": "eZUfiCTnWlxP",
        "colab_type": "code",
        "colab": {
          "base_uri": "https://localhost:8080/",
          "height": 367
        },
        "outputId": "01f7b3c5-19f1-40a8-82d1-9a46dce5fc09"
      },
      "source": [
        "'''import glob\n",
        "from PIL import Image\n",
        "from torchvision import transform\n",
        "import matplotlib.pyplot as plt\n",
        "%matplotlib inline\n",
        "imms = glob.glob('*JPG')\n",
        "print(imms)\n",
        "for i in imms:\n",
        "  immg = Image.open(i)\n",
        "  trans = transform.ToPILImage()\n",
        "  trans1 = transform.ToTensor()\n",
        "  plt.imshow(trans(trans1(immg)))'''"
      ],
      "execution_count": null,
      "outputs": [
        {
          "output_type": "error",
          "ename": "ImportError",
          "evalue": "ignored",
          "traceback": [
            "\u001b[0;31m---------------------------------------------------------------------------\u001b[0m",
            "\u001b[0;31mImportError\u001b[0m                               Traceback (most recent call last)",
            "\u001b[0;32m<ipython-input-42-41573013e6eb>\u001b[0m in \u001b[0;36m<module>\u001b[0;34m()\u001b[0m\n\u001b[1;32m      1\u001b[0m \u001b[0;32mimport\u001b[0m \u001b[0mglob\u001b[0m\u001b[0;34m\u001b[0m\u001b[0;34m\u001b[0m\u001b[0m\n\u001b[1;32m      2\u001b[0m \u001b[0;32mfrom\u001b[0m \u001b[0mPIL\u001b[0m \u001b[0;32mimport\u001b[0m \u001b[0mImage\u001b[0m\u001b[0;34m\u001b[0m\u001b[0;34m\u001b[0m\u001b[0m\n\u001b[0;32m----> 3\u001b[0;31m \u001b[0;32mfrom\u001b[0m \u001b[0mtorchvision\u001b[0m \u001b[0;32mimport\u001b[0m \u001b[0mtransform\u001b[0m\u001b[0;34m\u001b[0m\u001b[0;34m\u001b[0m\u001b[0m\n\u001b[0m\u001b[1;32m      4\u001b[0m \u001b[0;32mimport\u001b[0m \u001b[0mmatplotlib\u001b[0m\u001b[0;34m.\u001b[0m\u001b[0mpyplot\u001b[0m \u001b[0;32mas\u001b[0m \u001b[0mplt\u001b[0m\u001b[0;34m\u001b[0m\u001b[0;34m\u001b[0m\u001b[0m\n\u001b[1;32m      5\u001b[0m \u001b[0mget_ipython\u001b[0m\u001b[0;34m(\u001b[0m\u001b[0;34m)\u001b[0m\u001b[0;34m.\u001b[0m\u001b[0mmagic\u001b[0m\u001b[0;34m(\u001b[0m\u001b[0;34m'matplotlib inline'\u001b[0m\u001b[0;34m)\u001b[0m\u001b[0;34m\u001b[0m\u001b[0;34m\u001b[0m\u001b[0m\n",
            "\u001b[0;31mImportError\u001b[0m: cannot import name 'transform'",
            "",
            "\u001b[0;31m---------------------------------------------------------------------------\u001b[0;32m\nNOTE: If your import is failing due to a missing package, you can\nmanually install dependencies using either !pip or !apt.\n\nTo view examples of installing some common dependencies, click the\n\"Open Examples\" button below.\n\u001b[0;31m---------------------------------------------------------------------------\u001b[0m\n"
          ]
        }
      ]
    },
    {
      "cell_type": "code",
      "metadata": {
        "id": "DKml3FykFDT0",
        "colab_type": "code",
        "colab": {
          "base_uri": "https://localhost:8080/",
          "height": 34
        },
        "outputId": "3c3bc3c5-7901-415f-c706-a984ca90f104"
      },
      "source": [
        "ls"
      ],
      "execution_count": null,
      "outputs": [
        {
          "output_type": "stream",
          "text": [
            "first.JPG  \u001b[0m\u001b[01;34msample_data\u001b[0m/  second.JPG  third.JPG\n"
          ],
          "name": "stdout"
        }
      ]
    },
    {
      "cell_type": "code",
      "metadata": {
        "id": "KuXQmMc0GTiw",
        "colab_type": "code",
        "colab": {}
      },
      "source": [
        ""
      ],
      "execution_count": null,
      "outputs": []
    }
  ]
}