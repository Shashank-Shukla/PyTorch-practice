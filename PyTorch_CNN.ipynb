{
  "nbformat": 4,
  "nbformat_minor": 0,
  "metadata": {
    "colab": {
      "name": "PyTorch_CNN.ipynb",
      "provenance": [],
      "authorship_tag": "ABX9TyN56bYHKVHsETxdP3yGn+2Z",
      "include_colab_link": true
    },
    "kernelspec": {
      "name": "python3",
      "display_name": "Python 3"
    }
  },
  "cells": [
    {
      "cell_type": "markdown",
      "metadata": {
        "id": "view-in-github",
        "colab_type": "text"
      },
      "source": [
        "<a href=\"https://colab.research.google.com/github/Shashank-Shukla/PyTorch-practice/blob/master/PyTorch_CNN.ipynb\" target=\"_parent\"><img src=\"https://colab.research.google.com/assets/colab-badge.svg\" alt=\"Open In Colab\"/></a>"
      ]
    },
    {
      "cell_type": "code",
      "metadata": {
        "id": "DDxFK_ao7Ucb",
        "colab_type": "code",
        "colab": {
          "base_uri": "https://localhost:8080/",
          "height": 34
        },
        "outputId": "f1b67b8e-4167-4bbc-dffc-eac747c6eaa0"
      },
      "source": [
        "import torch\n",
        "from torch import nn, optim\n",
        "from torch.nn import functional as F\n",
        "from torch.utils.data import DataLoader\n",
        "from torchvision import datasets, transforms\n",
        "\n",
        "print(\"Torch version: \",torch.__version__)\n",
        "print(\"Cuda active: \",torch.cuda.is_available())"
      ],
      "execution_count": null,
      "outputs": [
        {
          "output_type": "stream",
          "text": [
            "Cuda active:  False\n"
          ],
          "name": "stdout"
        }
      ]
    },
    {
      "cell_type": "code",
      "metadata": {
        "id": "kQ0zgo5Xnxd2",
        "colab_type": "code",
        "colab": {}
      },
      "source": [
        "class NN(nn.Module):\n",
        "  def __init__(self, input_size, num_classes):\n",
        "    super(NN, self).__init__()\n",
        "    self.fc1 = nn.Linear(input_size, 50)\n",
        "    self.fc2 = nn.Linear(50, num_classes)\n",
        "\n",
        "  def forward(self, x):\n",
        "    x = F.relu(self.fc1(x))\n",
        "    x = self.fc2(x)\n",
        "    return x\n"
      ],
      "execution_count": null,
      "outputs": []
    },
    {
      "cell_type": "code",
      "metadata": {
        "id": "B5nqzEngofv-",
        "colab_type": "code",
        "colab": {}
      },
      "source": [
        "class CNN(nn.Module):\n",
        "  def __init__(self, in_channels=1, num_classes=10):\n",
        "    # for mnmist dataset, in_channel = 1 and num_classes = 10\n",
        "    super(CNN, self).__init__()\n",
        "    # same convolution: kernel=3x3 and padding=1x1 and stride=1x1\n",
        "    self.conv1 = nn.Conv2d(in_channels=1, out_channels=8, kernel_size=(3,3), stride=(1,1), padding=(1,1))\n",
        "    # n_out = ((n_in + 2*pad - kernal)/stride) + 1\n",
        "    self.pool = nn.MaxPool2d(kernel_size=(2,2), stride=(2,2))\n",
        "    self.conv2 = nn.Conv2d(in_channels=8, out_channels=16, kernel_size=(3,3), stride=(1,1), padding=(1,1))\n",
        "    self.fc1 = nn.Linear(16*7*7, num_classes)\n",
        "\n",
        "  def forward(self, x):\n",
        "    x = F.relu(self.conv1(x))\n",
        "    x = self.pool(x)\n",
        "    x = F.relu(self.conv2(x))\n",
        "    x = self.pool(x)\n",
        "    x = x.reshape(x.shape[0], -1)\n",
        "    x = self.fc1(x)\n",
        "    return x\n",
        "  "
      ],
      "execution_count": null,
      "outputs": []
    },
    {
      "cell_type": "code",
      "metadata": {
        "id": "qdaX7nTxuOrT",
        "colab_type": "code",
        "colab": {
          "base_uri": "https://localhost:8080/",
          "height": 51
        },
        "outputId": "586803a8-3429-46b6-d075-b8f3f3a06559"
      },
      "source": [
        "model = CNN()\n",
        "x = torch.randn(64,1,28,28)\n",
        "print(\"X shape = \",x.shape)\n",
        "print(\"Model shape: \",model(x).shape)\n"
      ],
      "execution_count": null,
      "outputs": [
        {
          "output_type": "stream",
          "text": [
            "X shape =  torch.Size([64, 1, 28, 28])\n",
            "Model shape:  torch.Size([64, 10])\n"
          ],
          "name": "stdout"
        }
      ]
    },
    {
      "cell_type": "code",
      "metadata": {
        "id": "DvPPyXjYurq8",
        "colab_type": "code",
        "colab": {}
      },
      "source": [
        "device = torch.device('cuda' if torch.cuda.is_available() else 'cpu')\n",
        "in_channel = 1\n",
        "num_classes = 10\n",
        "lr = 0.001\n",
        "bs = 64\n",
        "epochs = 20\n",
        "\n",
        "# Loading data train and test respectively\n",
        "train_dataset = datasets.MNIST(root='dataset/',train=True, transform=transforms.ToTensor(), download=True)\n",
        "train_loader = DataLoader(train_dataset, batch_size=bs, shuffle=True)\n",
        "\n",
        "test_dataset = datasets.MNIST(root='dataset/',train=False, transform=transforms.ToTensor(), download=True)\n",
        "test_loader = DataLoader(test_dataset, batch_size=bs, shuffle=True)\n",
        "\n",
        "# Initialize model\n",
        "model = CNN().to(device)\n",
        "\n",
        "# Setting loss and optimizer criterion\n",
        "criterion_loss = nn.CrossEntropyLoss()\n",
        "optimizer = optim.Adam(model.parameters(), lr=lr)\n",
        "\n",
        "# Training the network\n",
        "for epoch in range(epochs):\n",
        "  for batch_idx, (data, targets) in enumerate(train_loader):\n",
        "    # Run in cuda\n",
        "    data = data.to(device)\n",
        "    targets = targets.to(device)\n",
        "\n",
        "    # Forward propagation\n",
        "    scores = model(data)\n",
        "    loss = criterion_loss(scores, targets)\n",
        "\n",
        "    # Backward propagation\n",
        "    optimizer.zero_grad()\n",
        "    loss.backward()\n",
        "\n",
        "    # Gradient descent\n",
        "    optimizer.step()\n"
      ],
      "execution_count": 13,
      "outputs": []
    },
    {
      "cell_type": "code",
      "metadata": {
        "id": "DNI_tak_RCqn",
        "colab_type": "code",
        "colab": {}
      },
      "source": [
        "def check_acc(loader, model):\n",
        "  if loader.dataset.train:\n",
        "    print(\"Checking accuracy on training-set\")\n",
        "  else:\n",
        "    print(\"Checking accuracy on testing-set\")\n",
        "  num_correct = 0\n",
        "  num_sample = 0\n",
        "  model.eval()\n",
        "\n",
        "  with torch.no_grad():\n",
        "    for x,y in loader:\n",
        "      x = x.to(device)\n",
        "\n",
        "      scores = model(x)\n",
        "      _, preds = scores.max(1)\n",
        "      num_correct += (preds == y).sum()\n",
        "      num_sample += preds.size(0)\n",
        "\n",
        "    print(f\"Got {num_correct}/{num_sample} = {float(num_correct)/num_sample * 100:.2f}\")\n",
        "\n",
        "  model.train()\n"
      ],
      "execution_count": 15,
      "outputs": []
    },
    {
      "cell_type": "code",
      "metadata": {
        "id": "BfYhg-3ZTCN4",
        "colab_type": "code",
        "colab": {
          "base_uri": "https://localhost:8080/",
          "height": 85
        },
        "outputId": "acafb669-cfee-459d-e6b3-e2532302e98b"
      },
      "source": [
        "check_acc(train_loader, model)\n",
        "check_acc(test_loader, model)"
      ],
      "execution_count": 16,
      "outputs": [
        {
          "output_type": "stream",
          "text": [
            "Checking accuracy on training-set\n",
            "Got 59790/60000 = 99.65\n",
            "Checking accuracy on testing-set\n",
            "Got 9883/10000 = 98.83\n"
          ],
          "name": "stdout"
        }
      ]
    }
  ]
}